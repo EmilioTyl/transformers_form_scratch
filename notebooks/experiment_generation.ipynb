{
 "cells": [
  {
   "cell_type": "code",
   "execution_count": 2,
   "metadata": {},
   "outputs": [],
   "source": [
    "%reload_ext autoreload\n",
    "%autoreload 2"
   ]
  },
  {
   "cell_type": "markdown",
   "metadata": {},
   "source": [
    "# Language model (text generation, autoregressive model)\n",
    "\n",
    "This experiment introduce a language model based on Transformers modules. The main idea is to introduce the mask to the delf attention module. Focusing on the process of each elelement of the sequence, the mask avoids to see forward words (avoids taking into account future words of the seqence).\n",
    "The goal is to predict the next character given a seqence (input is a seqence of characters, output prediction should be the same character sequence shifted to the left)"
   ]
  },
  {
   "cell_type": "code",
   "execution_count": 3,
   "metadata": {},
   "outputs": [],
   "source": [
    "import warnings\n",
    "warnings.filterwarnings('ignore')\n",
    "from _context import src\n",
    "from src.models.model_utils import device_selection\n",
    "from src.models.predict_model import GenerationCharacterTransformer\n",
    "import torch\n",
    "import torch.nn as nn\n",
    "import torch.nn.functional as F\n",
    "from torch.autograd import Variable\n",
    "from torch.utils.tensorboard import SummaryWriter\n",
    "import torch.distributions as dist\n",
    "\n",
    "import numpy as np\n",
    "import random, tqdm, sys, math, gzip\n"
   ]
  },
  {
   "cell_type": "code",
   "execution_count": 9,
   "metadata": {},
   "outputs": [],
   "source": [
    "#Params\n",
    "# NB, the enwik8 data contains tokens from 9 to 240, but well round up to the nearest\n",
    "# power of two.\n",
    "NUM_TOKENS = 256\n",
    "\n",
    "num_classes = 2\n",
    "embeding_size = 128\n",
    "transformer_heads = 8\n",
    "depth = 4\n",
    "lr = 1e-4\n",
    "warm = 10000\n",
    "epochs =100\n",
    "\n",
    "train_num = int(50e6)\n",
    "val_num = int(5e6)\n",
    "test_num = int(5e6)\n",
    "total_num = train_num + val_num + test_num"
   ]
  },
  {
   "cell_type": "markdown",
   "metadata": {},
   "source": [
    "# Dataset\n",
    "Dataset is named enwik8 and contains $10^8$ characters of wikipedia text"
   ]
  },
  {
   "cell_type": "code",
   "execution_count": 5,
   "metadata": {},
   "outputs": [],
   "source": [
    "# enwik8\n",
    "# http://mattmahoney.net/dc/enwik8.zip\n",
    "\n",
    "path = \"./dataset/enwik8\"\n",
    "with open(path) as file:\n",
    "    arr = np.fromstring(file.read(total_num), dtype=np.uint8)\n",
    "    train_ds, val_ds, test_ds = np.split(arr, [train_num, val_num+ test_num])\n",
    "    train_ds = torch.from_numpy(train_ds)\n",
    "    val_ds = torch.from_numpy(val_ds)\n",
    "    test_ds = torch.from_numpy(test_ds)"
   ]
  },
  {
   "cell_type": "code",
   "execution_count": 6,
   "metadata": {},
   "outputs": [
    {
     "data": {
      "text/plain": [
       "tensor([ 60, 109, 101,  ...,  61,  61,  61], dtype=torch.uint8)"
      ]
     },
     "execution_count": 6,
     "metadata": {},
     "output_type": "execute_result"
    }
   ],
   "source": [
    "train_ds"
   ]
  },
  {
   "cell_type": "markdown",
   "metadata": {},
   "source": [
    "# Model\n",
    "Provide a character sequence and the model generates for each character of the seqeuence the next character. hence the last prediction of the putput sequence shuold be the next unseen letter (output is one character shiftted)\n",
    "\n",
    "<img src=\"images/transformer_model_generator.svg\"  width=\"500\" height=\"600\">\n",
    "\n",
    "It is necessary that the transformer model can not see further characters in order to perform the attention mechanism. For that reason the weighted matrix is masked with an upper diagonal of $-\\inf$ (after softmax it gets a 0)\n",
    "* Rimind that each row of th eattention weight matrix are the weight of each row sequence vector (each element of the weight vector is the weight of the row sequence vector)\n",
    "* E.g: the first row of th eweight matrix contains only the fisrt element, the rest are $-inf$. Then, it means that for the first element of the sequence the only vector that counts is the first sequence vector, the others are ignored\n",
    "<img src=\"images/mask.svg\"  width=\"500\" height=\"600\">"
   ]
  },
  {
   "cell_type": "code",
   "execution_count": 21,
   "metadata": {},
   "outputs": [],
   "source": [
    "model = GenerationCharacterTransformer(\n",
    "                            embedding_size=128,\n",
    "                            transformer_heads=10,\n",
    "                            depth=5,\n",
    "                            max_sequence=256, #context\n",
    "                            token_size=NUM_TOKENS)"
   ]
  },
  {
   "cell_type": "code",
   "execution_count": 22,
   "metadata": {},
   "outputs": [
    {
     "data": {
      "text/plain": [
       "(torch.Size([8, 256, 256]),\n",
       " tensor([[[-6.0941, -5.1164, -6.0955,  ..., -6.9216, -5.9654, -7.1292],\n",
       "          [-5.7974, -5.1403, -4.1970,  ..., -8.1976, -5.2581, -5.9976],\n",
       "          [-6.7997, -6.0713, -6.5420,  ..., -6.6436, -5.6532, -6.3152],\n",
       "          ...,\n",
       "          [-6.4389, -7.0854, -5.2680,  ..., -7.0332, -5.9197, -7.0326],\n",
       "          [-6.9156, -5.1362, -5.8684,  ..., -7.5660, -6.7089, -6.5084],\n",
       "          [-5.8663, -5.7281, -6.1731,  ..., -6.2620, -6.7745, -7.4074]],\n",
       " \n",
       "         [[-6.0941, -5.1164, -6.0955,  ..., -6.9216, -5.9654, -7.1292],\n",
       "          [-5.7974, -5.1403, -4.1970,  ..., -8.1976, -5.2581, -5.9976],\n",
       "          [-6.7997, -6.0713, -6.5420,  ..., -6.6436, -5.6532, -6.3152],\n",
       "          ...,\n",
       "          [-6.4389, -7.0854, -5.2680,  ..., -7.0332, -5.9197, -7.0326],\n",
       "          [-6.9156, -5.1362, -5.8684,  ..., -7.5660, -6.7089, -6.5084],\n",
       "          [-5.8663, -5.7281, -6.1731,  ..., -6.2620, -6.7745, -7.4074]],\n",
       " \n",
       "         [[-6.0941, -5.1164, -6.0955,  ..., -6.9216, -5.9654, -7.1292],\n",
       "          [-5.7974, -5.1403, -4.1970,  ..., -8.1976, -5.2581, -5.9976],\n",
       "          [-6.7997, -6.0713, -6.5420,  ..., -6.6436, -5.6532, -6.3152],\n",
       "          ...,\n",
       "          [-6.4389, -7.0854, -5.2680,  ..., -7.0332, -5.9197, -7.0326],\n",
       "          [-6.9156, -5.1362, -5.8684,  ..., -7.5660, -6.7089, -6.5084],\n",
       "          [-5.8663, -5.7281, -6.1731,  ..., -6.2620, -6.7745, -7.4074]],\n",
       " \n",
       "         ...,\n",
       " \n",
       "         [[-6.0941, -5.1164, -6.0955,  ..., -6.9216, -5.9654, -7.1292],\n",
       "          [-5.7974, -5.1403, -4.1970,  ..., -8.1976, -5.2581, -5.9976],\n",
       "          [-6.7997, -6.0713, -6.5420,  ..., -6.6436, -5.6532, -6.3152],\n",
       "          ...,\n",
       "          [-6.4389, -7.0854, -5.2680,  ..., -7.0332, -5.9197, -7.0326],\n",
       "          [-6.9156, -5.1362, -5.8684,  ..., -7.5660, -6.7089, -6.5084],\n",
       "          [-5.8663, -5.7281, -6.1731,  ..., -6.2620, -6.7745, -7.4074]],\n",
       " \n",
       "         [[-6.0941, -5.1164, -6.0955,  ..., -6.9216, -5.9654, -7.1292],\n",
       "          [-5.7974, -5.1403, -4.1970,  ..., -8.1976, -5.2581, -5.9976],\n",
       "          [-6.7997, -6.0713, -6.5420,  ..., -6.6436, -5.6532, -6.3152],\n",
       "          ...,\n",
       "          [-6.4389, -7.0854, -5.2680,  ..., -7.0332, -5.9197, -7.0326],\n",
       "          [-6.9156, -5.1362, -5.8684,  ..., -7.5660, -6.7089, -6.5084],\n",
       "          [-5.8663, -5.7281, -6.1731,  ..., -6.2620, -6.7745, -7.4074]],\n",
       " \n",
       "         [[-6.0941, -5.1164, -6.0955,  ..., -6.9216, -5.9654, -7.1292],\n",
       "          [-5.7974, -5.1403, -4.1970,  ..., -8.1976, -5.2581, -5.9976],\n",
       "          [-6.7997, -6.0713, -6.5420,  ..., -6.6436, -5.6532, -6.3152],\n",
       "          ...,\n",
       "          [-6.4389, -7.0854, -5.2680,  ..., -7.0332, -5.9197, -7.0326],\n",
       "          [-6.9156, -5.1362, -5.8684,  ..., -7.5660, -6.7089, -6.5084],\n",
       "          [-5.8663, -5.7281, -6.1731,  ..., -6.2620, -6.7745, -7.4074]]],\n",
       "        grad_fn=<LogSoftmaxBackward>))"
      ]
     },
     "execution_count": 22,
     "metadata": {},
     "output_type": "execute_result"
    }
   ],
   "source": [
    "#Fast.check\n",
    "x = torch.rand(8,256)\n",
    "x = x.long()\n",
    "o = model(x)\n",
    "o.size(), o"
   ]
  },
  {
   "cell_type": "markdown",
   "metadata": {},
   "source": [
    "# Train"
   ]
  },
  {
   "cell_type": "code",
   "execution_count": null,
   "metadata": {},
   "outputs": [],
   "source": []
  }
 ],
 "metadata": {
  "kernelspec": {
   "display_name": "Python 3",
   "language": "python",
   "name": "python3"
  },
  "language_info": {
   "codemirror_mode": {
    "name": "ipython",
    "version": 3
   },
   "file_extension": ".py",
   "mimetype": "text/x-python",
   "name": "python",
   "nbconvert_exporter": "python",
   "pygments_lexer": "ipython3",
   "version": "3.7.7"
  }
 },
 "nbformat": 4,
 "nbformat_minor": 4
}
