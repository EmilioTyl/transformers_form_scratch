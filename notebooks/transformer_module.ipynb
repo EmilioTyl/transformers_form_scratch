{
 "cells": [
  {
   "cell_type": "code",
   "execution_count": 1,
   "metadata": {},
   "outputs": [],
   "source": [
    "%load_ext autoreload"
   ]
  },
  {
   "cell_type": "code",
   "execution_count": 3,
   "metadata": {},
   "outputs": [],
   "source": [
    "import torch\n",
    "from torch import nn\n",
    "import torch.nn.functional as F"
   ]
  },
  {
   "cell_type": "markdown",
   "metadata": {},
   "source": [
    "## Self attention\n",
    "sequence $x$ is $b x t x k$. batch sequence length and dimension\n",
    "Follwoing we add linear transformations in order to provide learnable parameters.\n",
    "* $W_q$ transform $x_i$ to $q_i$ query vector. Compared to every other vector inorder to establish weights for its own output $y_i$\n",
    "* $W_k$ transform $x_i$ to $k_i$ key vector. Used for $x_i$ being compared to the queries, to establish the weights for other $y_j$\n",
    "* $W_v$ transform $x_i$ to $v_i$ vector to be weighted and that actually encodes the information.\n",
    "\n",
    "<img src=\"images/learnable-weights.png\"  width=\"500\" height=\"600\">\n",
    "\n",
    "Hence, the self attention layer for each $y_i$ will be the following\n",
    "\n",
    "\n",
    "<img src=\"images/learnable-structure.png\"  width=\"500\" height=\"600\">\n",
    "\n",
    "Small tricks:\n",
    "\n",
    "* Divide by $\\sqrt{k}$ to reduce input values of the softmax (as dimension increases it reduces by the euclidean lenght, read bibliography for more explanations)\n",
    "* Multi-head attention: learn many query, keys values for each input (paralllel self attention) and concatenate at the end. Allows to focus and learn different queries for each input. Each $W_q^r$, $W_k^r$ and $W_v^r$ is an attention head.\n",
    "\n",
    "\n"
   ]
  },
  {
   "cell_type": "code",
   "execution_count": null,
   "metadata": {},
   "outputs": [],
   "source": [
    "class SelfAttention(nn.Module):\n",
    "    def __init__(self, k, heads=10):\n",
    "        super().__init__()\n",
    "        #Compute Linear Transformations\n",
    "        self.transform_queries = nn.Linear(k, k*heads, bias=False)\n",
    "        self.transform_keys = nn.Linear(k, k*heads, bias=False)\n",
    "        self.transform_values = nn.Linear(k, k*heads, bias=False)\n",
    "        # Linear Transform that reduces dimensionality\n",
    "        self.dimension_reduce = nn.Linear(k*heads, k, bias=False)\n",
    "        self.k = k\n",
    "        self.h = heads\n",
    "        \n",
    "    def forward(self,x): #input b x t x k\n",
    "        b, t, k = x.size()\n",
    "        h = self.h\n",
    "        \n",
    "        #Transform: b,t,k => b,t,k*h \n",
    "        queries = self.transform_queries(x)\n",
    "        keys = self.transform_keys(x)\n",
    "        values = self.transform_values(x)\n",
    "        #Separate heads from dimension\n",
    "        # b,t,k*h => b,t,h,k\n",
    "        queries = queries.view(b,t,h,k)\n",
    "        keys = keys.view(b,t,h,k)\n",
    "        values = values.view(b,t,h,k)\n",
    "        #Matrix multiplication for each batch and each head. Hence we merge heads and batch in order tu use torch.bmm\n",
    "        # Transpose b,t,h,k => b,h,t,k\n",
    "        # Merge dim b,h,t,k => b*h,t,k\n",
    "        queries = queries.transpose(1,2).contiguous().view(b*h,t,k)\n",
    "        keys = keys.transpose(1,2).contiguous().view(b*h,t,k)\n",
    "        values = values.transpose(1,2).contiguous().view(b*h,t,k)\n",
    "        \n",
    "        queries = queries /(k**(0.25))\n",
    "        keys = keys/(k**(0.25))\n",
    "        \n",
    "        weights = torch.bmm(queries,keys)\n",
    "        soft_weights = F.softmax(weights, dim=2)\n"
   ]
  }
 ],
 "metadata": {
  "kernelspec": {
   "display_name": "Python 3",
   "language": "python",
   "name": "python3"
  },
  "language_info": {
   "codemirror_mode": {
    "name": "ipython",
    "version": 3
   },
   "file_extension": ".py",
   "mimetype": "text/x-python",
   "name": "python",
   "nbconvert_exporter": "python",
   "pygments_lexer": "ipython3",
   "version": "3.6.10"
  }
 },
 "nbformat": 4,
 "nbformat_minor": 4
}
